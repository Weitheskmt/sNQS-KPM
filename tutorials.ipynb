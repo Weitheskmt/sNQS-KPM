{
 "cells": [
  {
   "cell_type": "markdown",
   "id": "38acda79",
   "metadata": {},
   "source": [
    "### 1. Install dependencies and build the necessary cython scripts.\n",
    "‘’‘\n",
    "Note that we need to install some dependencies, including pytorch, psi4, netket, jax, scipy, sympy, numpy, h5py...\n",
    "’‘’"
   ]
  },
  {
   "cell_type": "code",
   "execution_count": null,
   "id": "b30a8ffb",
   "metadata": {},
   "outputs": [],
   "source": [
    "# !conda install -c psi4 psi4 -y\n",
    "# !conda install -c pytorch pytorch -y\n",
    "# !conda install -c netket netket -y\n",
    "# !conda install -c jax jax -y\n",
    "# !conda install -c scipy scipy -y\n",
    "# !conda install -c sympy sympy -y\n",
    "# !conda install -c numpy numpy -y\n",
    "# !conda install -c h5py h5py -y\n",
    "# !conda install -c matplotlib matplotlib -y\n",
    "\n",
    "# !python src_cpp/setup.py build_ext --inplace --force\n",
    "\n",
    "\n",
    "# find the below code in snqs_kpm.chem._psi4_template\n",
    "# note that to run psi4 we need to import snqs_kpm...\n",
    "# sys.path.append('absolute path of snqs_kpm')\n",
    "# replace 'absolute path of snqs_kpm' with true snqs_kpm package path\n"
   ]
  },
  {
   "cell_type": "markdown",
   "id": "574023b3",
   "metadata": {},
   "source": [
    "### 2. Import packages"
   ]
  },
  {
   "cell_type": "code",
   "execution_count": null,
   "id": "067ad5d3",
   "metadata": {},
   "outputs": [],
   "source": [
    "from snqs_kpm import generate_mol_data\n",
    "from snqs_kpm import KPM_AS, FCI_AS\n",
    "import numpy as np\n",
    "import subprocess\n",
    "import matplotlib.pyplot as plt"
   ]
  },
  {
   "cell_type": "markdown",
   "id": "4e7e5e2a",
   "metadata": {},
   "source": [
    "### 3. Generate molecular data, qubit Hamiltonian and dipole moment operators"
   ]
  },
  {
   "cell_type": "code",
   "execution_count": null,
   "id": "684544c6",
   "metadata": {},
   "outputs": [],
   "source": [
    "mol_name = \"H2O\"\n",
    "generate_mol_data(mol_name)"
   ]
  },
  {
   "cell_type": "markdown",
   "id": "922c329a",
   "metadata": {},
   "source": [
    "### 4. Set neural-network parameters"
   ]
  },
  {
   "cell_type": "code",
   "execution_count": null,
   "id": "4b58dd2b",
   "metadata": {},
   "outputs": [],
   "source": [
    "n_layer = 1\n",
    "n_hid = 64\n",
    "n_layer_phase = 1\n",
    "n_hid_phase = 128\n",
    "n_train = 3000\n",
    "s = 111\n",
    "\n",
    "o = \"./data/\"+ mol_name\n",
    "m = \"./molecules/\"+ mol_name\n",
    "\n",
    "arc_command = [\n",
    "    \"-o\", o,\n",
    "    \"-m\", m,\"-single_phase\",\n",
    "    \"-n\", \"1\",    \n",
    "    \"-output_freq\", \"25\",\n",
    "    \"-save_freq\", \"-1\",]\n",
    "\n",
    "nn_command = [\n",
    "    \"-n_layer\", f\"{n_layer}\",\n",
    "    \"-n_hid\", f\"{n_hid}\",\n",
    "    \"-n_layer_phase\", f\"{n_layer_phase}\",\n",
    "    \"-n_hid_phase\", f\"{n_hid_phase}\",\n",
    "    \"-lr\", \"0.001\",\n",
    "    \"-s\", f\"{s}\",\n",
    "    \"-n_train\", f\"{n_train}\"]\n",
    "\n",
    "nqs_command = [\n",
    "    \"python\", \"-u\", \"-m\", \"snqs_kpm.nqs.run\",\n",
    "    # \"-c\",\n",
    "    ] + arc_command + nn_command\n"
   ]
  },
  {
   "cell_type": "markdown",
   "id": "59dd2137",
   "metadata": {},
   "source": [
    "### 5. Run NQS"
   ]
  },
  {
   "cell_type": "code",
   "execution_count": null,
   "id": "c4664ed5",
   "metadata": {},
   "outputs": [],
   "source": [
    "nqs = subprocess.run(nqs_command, check=True)"
   ]
  },
  {
   "cell_type": "markdown",
   "id": "46efef4f",
   "metadata": {},
   "source": [
    "### 6. Run KPM"
   ]
  },
  {
   "cell_type": "code",
   "execution_count": null,
   "id": "5ea3e8e6",
   "metadata": {},
   "outputs": [],
   "source": [
    "kpm_command = [\n",
    "    \"python\", \"-u\", \"-m\", \"snqs_kpm.nqs.run_moments\",\n",
    "    \"-c\",\n",
    "    \"-NOM\", \"0\",] + arc_command + nn_command\n",
    "\n",
    "kpm = subprocess.run(kpm_command, check=True)"
   ]
  },
  {
   "cell_type": "markdown",
   "id": "7e5fb69e",
   "metadata": {},
   "source": [
    "### 7. Calculate absorption spectrum"
   ]
  },
  {
   "cell_type": "code",
   "execution_count": null,
   "id": "823212dc",
   "metadata": {},
   "outputs": [],
   "source": [
    "e,i = KPM_AS(mol_name)"
   ]
  },
  {
   "cell_type": "markdown",
   "id": "a9cdf3bb",
   "metadata": {},
   "source": [
    "### 8. Calculate FCI absorption spectrum"
   ]
  },
  {
   "cell_type": "code",
   "execution_count": null,
   "id": "b14cadb4",
   "metadata": {},
   "outputs": [],
   "source": [
    "e_fci,i_fci = FCI_AS(mol_name)"
   ]
  },
  {
   "cell_type": "markdown",
   "id": "addd1d3a",
   "metadata": {},
   "source": [
    "### 9. Plot data"
   ]
  },
  {
   "cell_type": "code",
   "execution_count": null,
   "id": "186948c5",
   "metadata": {},
   "outputs": [],
   "source": [
    "plt.figure(dpi=350)\n",
    "plt.plot(e,i,label='sNQS-KPM')\n",
    "plt.plot(e_fci,i_fci/np.max(i_fci),'--',label='ED')\n",
    "plt.xlim(0,50)\n",
    "plt.legend()\n",
    "plt.xlabel(\"Energy (eV)\")\n",
    "plt.ylabel(\"Intensity (a.u.)\")"
   ]
  }
 ],
 "metadata": {
  "kernelspec": {
   "display_name": "snqs",
   "language": "python",
   "name": "python3"
  },
  "language_info": {
   "codemirror_mode": {
    "name": "ipython",
    "version": 3
   },
   "file_extension": ".py",
   "mimetype": "text/x-python",
   "name": "python",
   "nbconvert_exporter": "python",
   "pygments_lexer": "ipython3",
   "version": "3.11.13"
  }
 },
 "nbformat": 4,
 "nbformat_minor": 5
}
